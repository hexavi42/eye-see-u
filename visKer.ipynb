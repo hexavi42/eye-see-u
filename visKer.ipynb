{
 "cells": [
  {
   "cell_type": "code",
   "execution_count": 23,
   "metadata": {
    "collapsed": false
   },
   "outputs": [],
   "source": [
    "%matplotlib inline\n",
    "import matplotlib.pyplot as plt\n",
    "import matplotlib.cm as cm\n",
    "import numpy as np\n",
    "from nnModels import PeripheryNet"
   ]
  },
  {
   "cell_type": "code",
   "execution_count": 3,
   "metadata": {
    "collapsed": true
   },
   "outputs": [],
   "source": [
    "periModel = PeripheryNet()\n",
    "periModel.load('100pOn90000')"
   ]
  },
  {
   "cell_type": "code",
   "execution_count": 38,
   "metadata": {
    "collapsed": false
   },
   "outputs": [
    {
     "data": {
      "image/png": "[encoded data removed]",
      "text/plain": [
       "<matplotlib.figure.Figure at 0x7ff2aff643d0>"
      ]
     },
     "metadata": {},
     "output_type": "display_data"
    }
   ],
   "source": [
    "W = periModel.model.layers[0]\n",
    "kernels = W.get_weights()[0]\n",
    "for i,k in enumerate(kernels):\n",
    "    plt.subplot(221+i)\n",
    "    plt.imshow(k[0],cmap=cm.binary,interpolation='nearest')"
   ]
  },
  {
   "cell_type": "code",
   "execution_count": 39,
   "metadata": {
    "collapsed": true
   },
   "outputs": [],
   "source": [
    "periModel = PeripheryNet()\n",
    "periModel.load('100pOn90000V2')"
   ]
  },
  {
   "cell_type": "code",
   "execution_count": 40,
   "metadata": {
    "collapsed": false
   },
   "outputs": [
    {
     "data": {
      "image/png": "[encoded data removed]",
      "text/plain": [
       "<matplotlib.figure.Figure at 0x7ff2afcedd10>"
      ]
     },
     "metadata": {},
     "output_type": "display_data"
    }
   ],
   "source": [
    "W = periModel.model.layers[0]\n",
    "kernels = W.get_weights()[0]\n",
    "for i,k in enumerate(kernels):\n",
    "    plt.subplot(221+i)\n",
    "    plt.imshow(k[0],cmap=cm.binary,interpolation='nearest')"
   ]
  },
  {
   "cell_type": "code",
   "execution_count": 41,
   "metadata": {
    "collapsed": true
   },
   "outputs": [],
   "source": [
    "periModel = PeripheryNet()\n",
    "periModel.load('100pOn90000_Overfit')"
   ]
  },
  {
   "cell_type": "code",
   "execution_count": 50,
   "metadata": {
    "collapsed": false
   },
   "outputs": [],
   "source": [
    "from keras.utils import np_utils\n",
    "data = np.load('data/peripheryImages.npy')\n",
    "answers = np.load('data/peripheryIndexes.npy')\n",
    "answers = np_utils.to_categorical(answers, 16)"
   ]
  },
  {
   "cell_type": "code",
   "execution_count": 52,
   "metadata": {
    "collapsed": false
   },
   "outputs": [
    {
     "name": "stdout",
     "output_type": "stream",
     "text": [
      "First choice cases: 0.04\n",
      "Top half of cases: 0.52\n"
     ]
    }
   ],
   "source": [
    "predictions = periModel.predict(data[:10000])\n",
    "right = 0\n",
    "topHalf = 0\n",
    "for i, j in enumerate(predictions):\n",
    "    if np.argmax(j) == np.argmax(answers[i]):\n",
    "        right += 1\n",
    "    if np.argmax(answers[i]) in np.argpartition(j, -8)[-8:]:\n",
    "        topHalf += 1\n",
    "print(\"First choice cases: {0}\".format(float(right)/len(predictions)))\n",
    "print(\"Top half of cases: {0}\".format(float(topHalf)/len(predictions)))"
   ]
  },
  {
   "cell_type": "code",
   "execution_count": null,
   "metadata": {
    "collapsed": true
   },
   "outputs": [],
   "source": []
  }
 ],
 "metadata": {
  "kernelspec": {
   "display_name": "Python 2",
   "language": "python",
   "name": "python2"
  },
  "language_info": {
   "codemirror_mode": {
    "name": "ipython",
    "version": 2
   },
   "file_extension": ".py",
   "mimetype": "text/x-python",
   "name": "python",
   "nbconvert_exporter": "python",
   "pygments_lexer": "ipython2",
   "version": "2.7.6"
  }
 },
 "nbformat": 4,
 "nbformat_minor": 0
}

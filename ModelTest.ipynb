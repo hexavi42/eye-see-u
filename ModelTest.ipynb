{
 "cells": [
  {
   "cell_type": "code",
   "execution_count": 1,
   "metadata": {
    "collapsed": false
   },
   "outputs": [
    {
     "name": "stderr",
     "output_type": "stream",
     "text": [
      "Using Theano backend.\n",
      "/usr/local/lib/python2.7/dist-packages/theano/tensor/signal/downsample.py:6: UserWarning: downsample module has been moved to the theano.tensor.signal.pool module.\n",
      "  \"downsample module has been moved to the theano.tensor.signal.pool module.\")\n"
     ]
    }
   ],
   "source": [
    "%matplotlib inline\n",
    "import matplotlib.pyplot as plt\n",
    "from keras.utils import np_utils\n",
    "import numpy as np\n",
    "import nnModels\n",
    "import main"
   ]
  },
  {
   "cell_type": "code",
   "execution_count": 2,
   "metadata": {
    "collapsed": false
   },
   "outputs": [],
   "source": [
    "data = np.load('data/fovealImages.npy')"
   ]
  },
  {
   "cell_type": "code",
   "execution_count": 3,
   "metadata": {
    "collapsed": false
   },
   "outputs": [
    {
     "data": {
      "image/png": "[encoded data removed]",
      "text/plain": [
       "<matplotlib.figure.Figure at 0x7fa586da3910>"
      ]
     },
     "metadata": {},
     "output_type": "display_data"
    }
   ],
   "source": [
    "foo = main.splitSectors(data[0])\n",
    "fig = plt.figure(figsize=(16,9))\n",
    "for sector_index in range(len(foo)):\n",
    "    plt.subplot(4,4,sector_index+1)\n",
    "    bar = main.formRGBImage(foo[sector_index])\n",
    "    plt.imshow(bar)\n",
    "    plt.tick_params(\n",
    "    axis='x',          # changes apply to the x-axis\n",
    "    which='both',      # both major and minor ticks are affected\n",
    "    bottom='off',      # ticks along the bottom edge are off\n",
    "    top='off',         # ticks along the top edge are off\n",
    "    labelbottom='off') # labels along the bottom edge are off\n",
    "    plt.tick_params(\n",
    "    axis='y',          # changes apply to the x-axis\n",
    "    which='both',      # both major and minor ticks are affected\n",
    "    left='off',        # ticks along the bottom edge are off\n",
    "    right='off',       # ticks along the top edge are off\n",
    "    labelleft='off')   # labels along the bottom edge are off"
   ]
  },
  {
   "cell_type": "code",
   "execution_count": 4,
   "metadata": {
    "collapsed": false
   },
   "outputs": [
    {
     "data": {
      "text/plain": [
       "<matplotlib.image.AxesImage at 0x7fa467c40190>"
      ]
     },
     "execution_count": 4,
     "metadata": {},
     "output_type": "execute_result"
    },
    {
     "data": {
      "image/png": "[encoded data removed]",
      "text/plain": [
       "<matplotlib.figure.Figure at 0x7fa468158890>"
      ]
     },
     "metadata": {},
     "output_type": "display_data"
    }
   ],
   "source": [
    "fig = plt.figure(figsize=(16,9))\n",
    "plt.imshow(main.formRGBImage(data[0]))"
   ]
  },
  {
   "cell_type": "code",
   "execution_count": 5,
   "metadata": {
    "collapsed": false
   },
   "outputs": [],
   "source": [
    "peri = nnModels.PeripheryNet()\n",
    "peri.load('99pBetter_7500')"
   ]
  },
  {
   "cell_type": "code",
   "execution_count": 6,
   "metadata": {
    "collapsed": false
   },
   "outputs": [],
   "source": [
    "peri_data = np.load('data/peripheryImages.npy')\n",
    "peri_answers = np.load('data/peripheryIndexes.npy')\n",
    "peri_answers = np_utils.to_categorical(peri_answers, 16)"
   ]
  },
  {
   "cell_type": "code",
   "execution_count": 7,
   "metadata": {
    "collapsed": false
   },
   "outputs": [
    {
     "name": "stdout",
     "output_type": "stream",
     "text": [
      "First choice cases: 0.08\n",
      "Top half of cases: 0.48\n"
     ]
    }
   ],
   "source": [
    "predictions = peri.predict(peri_data[len(data)*3/4:])\n",
    "right = 0\n",
    "topHalf = 0\n",
    "for i, j in enumerate(predictions):\n",
    "    if np.argmax(j) == np.argmax(peri_answers[i]):\n",
    "        right += 1\n",
    "    if np.argmax(peri_answers[i]) in np.argpartition(j, -8)[-8:]:\n",
    "        topHalf += 1\n",
    "print(\"First choice cases: {0}\".format(float(right)/len(predictions)))\n",
    "print(\"Top half of cases: {0}\".format(float(topHalf)/len(predictions)))"
   ]
  },
  {
   "cell_type": "code",
   "execution_count": 8,
   "metadata": {
    "collapsed": false
   },
   "outputs": [],
   "source": [
    "fovAnswers = np.concatenate(peri_answers[:50])\n",
    "fovData = np.concatenate([main.splitSectors(datum) for datum in data[:50]])"
   ]
  },
  {
   "cell_type": "code",
   "execution_count": 9,
   "metadata": {
    "collapsed": true
   },
   "outputs": [],
   "source": [
    "from keras.models import Sequential\n",
    "from keras.layers import Convolution2D, MaxPooling2D, Activation, Dense, Flatten, Dropout\n",
    "from keras.optimizers import SGD\n",
    "\n",
    "class FoveaNet(object):\n",
    "    model = None\n",
    "\n",
    "    def __init__(self, sample_datum=None):\n",
    "        # Build model\n",
    "        fovModel = Sequential()\n",
    "        fovModel.add(Convolution2D(3, 15, 15, input_shape=sample_datum.shape, init='normal'))\n",
    "        fovModel.add(Activation('relu'))\n",
    "        fovModel.add(Dropout(0.2))\n",
    "        fovModel.add(Convolution2D(3, 7, 7, init='normal'))\n",
    "        fovModel.add(Activation('relu'))\n",
    "        fovModel.add(Dropout(0.2))\n",
    "        fovModel.add(Flatten())\n",
    "        fovModel.add(Dense(output_dim=1))\n",
    "        fovModel.add(Activation('sigmoid'))\n",
    "        fovModel.compile(loss='binary_crossentropy', optimizer='rmsprop')\n",
    "        self.model = fovModel\n",
    "\n",
    "    def fit(self, data, answers, nb_epoch=3, batch_size=128):\n",
    "        self.model.fit(data, answers, nb_epoch=nb_epoch, batch_size=batch_size, show_accuracy=True)\n",
    "\n",
    "    def predict(self, data):\n",
    "        return self.model.predict(data)\n",
    "\n",
    "    def save(self, fname, overwrite=False):\n",
    "        self.model.save_weights(fname, overwrite=overwrite)\n",
    "\n",
    "    def load(self, fname):\n",
    "        self.model.load_weights(fname)"
   ]
  },
  {
   "cell_type": "code",
   "execution_count": 10,
   "metadata": {
    "collapsed": false
   },
   "outputs": [],
   "source": [
    "fovModel = FoveaNet(fovData[0])"
   ]
  },
  {
   "cell_type": "code",
   "execution_count": 11,
   "metadata": {
    "collapsed": false
   },
   "outputs": [
    {
     "name": "stdout",
     "output_type": "stream",
     "text": [
      "Epoch 1/3\n",
      "600/600 [==============================] - 89s - loss: 1.4986 - acc: 1.0000     \n",
      "Epoch 2/3\n",
      "600/600 [==============================] - 89s - loss: 0.9939 - acc: 1.0000     \n",
      "Epoch 3/3\n",
      "600/600 [==============================] - 88s - loss: 0.9939 - acc: 1.0000     \n"
     ]
    }
   ],
   "source": [
    "fovModel.fit(fovData[:len(fovData)*3/4], fovAnswers[:len(fovAnswers)*3/4], nb_epoch=3, batch_size=128)"
   ]
  },
  {
   "cell_type": "code",
   "execution_count": 12,
   "metadata": {
    "collapsed": false
   },
   "outputs": [],
   "source": [
    "fovPredictions = fovModel.predict(fovData[len(fovData)*3/4:])"
   ]
  },
  {
   "cell_type": "code",
   "execution_count": 13,
   "metadata": {
    "collapsed": false
   },
   "outputs": [
    {
     "data": {
      "text/plain": [
       "0.51541560888290405"
      ]
     },
     "execution_count": 13,
     "metadata": {},
     "output_type": "execute_result"
    }
   ],
   "source": [
    "np.max(fovPredictions)"
   ]
  },
  {
   "cell_type": "code",
   "execution_count": 14,
   "metadata": {
    "collapsed": false
   },
   "outputs": [
    {
     "data": {
      "image/png": "[encoded data removed]",
      "text/plain": [
       "<matplotlib.figure.Figure at 0x7fa44cb48110>"
      ]
     },
     "metadata": {},
     "output_type": "display_data"
    }
   ],
   "source": [
    "fig = plt.figure(figsize=(16,9))\n",
    "for pred_index in range(40):\n",
    "    plt.subplot(4,10,pred_index+1)\n",
    "    bar = main.formRGBImage(fovData[len(fovData)*3/4:][pred_index])\n",
    "    plt.imshow(bar)\n",
    "    plt.title(\"{0} - {1}\".format(fovPredictions[pred_index][0] > 0.5, fovAnswers[len(fovAnswers)*3/4:][pred_index]))\n",
    "    plt.tick_params(\n",
    "    axis='x',          # changes apply to the x-axis\n",
    "    which='both',      # both major and minor ticks are affected\n",
    "    bottom='off',      # ticks along the bottom edge are off\n",
    "    top='off',         # ticks along the top edge are off\n",
    "    labelbottom='off') # labels along the bottom edge are off\n",
    "    plt.tick_params(\n",
    "    axis='y',          # changes apply to the x-axis\n",
    "    which='both',      # both major and minor ticks are affected\n",
    "    left='off',        # ticks along the bottom edge are off\n",
    "    right='off',       # ticks along the top edge are off\n",
    "    labelleft='off')   # labels along the bottom edge are off"
   ]
  },
  {
   "cell_type": "code",
   "execution_count": null,
   "metadata": {
    "collapsed": false
   },
   "outputs": [],
   "source": []
  },
  {
   "cell_type": "code",
   "execution_count": null,
   "metadata": {
    "collapsed": true
   },
   "outputs": [],
   "source": []
  }
 ],
 "metadata": {
  "celltoolbar": "Raw Cell Format",
  "kernelspec": {
   "display_name": "Python 2",
   "language": "python",
   "name": "python2"
  },
  "language_info": {
   "codemirror_mode": {
    "name": "ipython",
    "version": 2
   },
   "file_extension": ".py",
   "mimetype": "text/x-python",
   "name": "python",
   "nbconvert_exporter": "python",
   "pygments_lexer": "ipython2",
   "version": "2.7.6"
  }
 },
 "nbformat": 4,
 "nbformat_minor": 0
}

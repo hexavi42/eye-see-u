{
 "cells": [
  {
   "cell_type": "code",
   "execution_count": 47,
   "metadata": {
    "collapsed": false
   },
   "outputs": [],
   "source": [
    "%matplotlib inline\n",
    "import matplotlib.pyplot as plt\n",
    "import numpy as np\n",
    "import nnModels\n",
    "import main"
   ]
  },
  {
   "cell_type": "code",
   "execution_count": 5,
   "metadata": {
    "collapsed": false
   },
   "outputs": [],
   "source": [
    "data = np.load('data/fovealImages.npy')"
   ]
  },
  {
   "cell_type": "code",
   "execution_count": 138,
   "metadata": {
    "collapsed": false
   },
   "outputs": [],
   "source": [
    "def splitSectors(np_matrix, objHalf=20, numSectors=[4, 4]):\n",
    "    sectors = [[] for i in range(16)]\n",
    "    for layer in np_matrix:\n",
    "        layer_sect = []\n",
    "        padShape = np.array(layer.shape)+objHalf*2\n",
    "        beforeSect = np.ones(padShape, dtype=np.uint8)*255\n",
    "        size = layer.shape/np.array(numSectors)\n",
    "        # error will happen if size*num < np_matrix.shape\n",
    "        # currently not handled or needed\n",
    "        beforeSect[objHalf:objHalf+layer.shape[0], objHalf:objHalf+layer.shape[1]] = layer\n",
    "        for i in range(numSectors[0]):\n",
    "            for j in range(numSectors[1]):\n",
    "                sectors[i*4+j].append(beforeSect[i*size[0]:(i+1)*size[0]+objHalf*2, j*size[1]:(j+1)*size[1]+objHalf*2])\n",
    "    return np.array(sectors)"
   ]
  },
  {
   "cell_type": "code",
   "execution_count": 125,
   "metadata": {
    "collapsed": false
   },
   "outputs": [],
   "source": [
    "def formRGBImage(np_matrix):\n",
    "    assert np_matrix.shape[0] == 3 and len(np_matrix.shape) == 3,\\\n",
    "        \"shape ({0}) of input matrix does not match (3, M, N)\".format(np_matrix.shape)\n",
    "    return np.stack([np_matrix[0],np_matrix[1],np_matrix[2]],axis=2)"
   ]
  },
  {
   "cell_type": "code",
   "execution_count": 147,
   "metadata": {
    "collapsed": false
   },
   "outputs": [
    {
     "data": {
      "image/png": "[encoded data removed]",
      "text/plain": [
       "<matplotlib.figure.Figure at 0x10e0756d0>"
      ]
     },
     "metadata": {},
     "output_type": "display_data"
    }
   ],
   "source": [
    "foo = splitSectors(data[0])\n",
    "for sector_index in range(len(foo)):\n",
    "    plt.subplot(4,4,sector_index+1)\n",
    "    bar = formRGBImage(foo[sector_index])\n",
    "    plt.imshow(bar)\n",
    "    plt.tick_params(\n",
    "    axis='x',          # changes apply to the x-axis\n",
    "    which='both',      # both major and minor ticks are affected\n",
    "    bottom='off',      # ticks along the bottom edge are off\n",
    "    top='off',         # ticks along the top edge are off\n",
    "    labelbottom='off') # labels along the bottom edge are off\n",
    "    plt.tick_params(\n",
    "    axis='y',          # changes apply to the x-axis\n",
    "    which='both',      # both major and minor ticks are affected\n",
    "    left='off',        # ticks along the bottom edge are off\n",
    "    right='off',       # ticks along the top edge are off\n",
    "    labelleft='off')   # labels along the bottom edge are off"
   ]
  },
  {
   "cell_type": "code",
   "execution_count": 142,
   "metadata": {
    "collapsed": false
   },
   "outputs": [
    {
     "data": {
      "text/plain": [
       "<matplotlib.image.AxesImage at 0x10a2f0050>"
      ]
     },
     "execution_count": 142,
     "metadata": {},
     "output_type": "execute_result"
    },
    {
     "data": {
      "image/png": "[encoded data removed]",
      "text/plain": [
       "<matplotlib.figure.Figure at 0x10b643190>"
      ]
     },
     "metadata": {},
     "output_type": "display_data"
    }
   ],
   "source": [
    "plt.imshow(formRGBImage(data[0]))"
   ]
  },
  {
   "cell_type": "code",
   "execution_count": null,
   "metadata": {
    "collapsed": true
   },
   "outputs": [],
   "source": []
  }
 ],
 "metadata": {
  "celltoolbar": "Raw Cell Format",
  "kernelspec": {
   "display_name": "Python 2",
   "language": "python",
   "name": "python2"
  },
  "language_info": {
   "codemirror_mode": {
    "name": "ipython",
    "version": 2
   },
   "file_extension": ".py",
   "mimetype": "text/x-python",
   "name": "python",
   "nbconvert_exporter": "python",
   "pygments_lexer": "ipython2",
   "version": "2.7.9"
  }
 },
 "nbformat": 4,
 "nbformat_minor": 0
}
